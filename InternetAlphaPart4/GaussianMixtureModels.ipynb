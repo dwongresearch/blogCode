{
 "cells": [
  {
   "cell_type": "code",
   "execution_count": 1,
   "id": "57754559",
   "metadata": {
    "ExecuteTime": {
     "end_time": "2022-03-20T08:15:05.651084Z",
     "start_time": "2022-03-20T08:15:05.053275Z"
    }
   },
   "outputs": [],
   "source": [
    "import pandas as pd\n",
    "import numpy as np\n",
    "from datetime import datetime , timedelta \n",
    "import yfinance as yf  #import data via Yahoo\n",
    "from scipy.stats import multivariate_normal\n",
    "from sklearn.mixture import GaussianMixture\n",
    "import plotly.graph_objects as go\n",
    "from plotly.subplots import make_subplots\n",
    "import scipy.stats as ss"
   ]
  },
  {
   "cell_type": "markdown",
   "id": "6445b1ef",
   "metadata": {},
   "source": [
    "Source Article here: https://medium.datadriveninvestor.com/using-an-unsupervised-machine-learning-algorithm-to-detect-different-stock-market-regimes-5c6354a1826a\n",
    "\n",
    "My blog here: https://www.dwongresearch.com/\n",
    "\n",
    "Create the downloader function and download the data we need"
   ]
  },
  {
   "cell_type": "code",
   "execution_count": 2,
   "id": "36baef02",
   "metadata": {
    "ExecuteTime": {
     "end_time": "2022-03-20T08:15:06.544964Z",
     "start_time": "2022-03-20T08:15:06.540449Z"
    }
   },
   "outputs": [],
   "source": [
    "def getYahooData(symbol, start = '2000-01-01' ):\n",
    "    \"\"\"\n",
    "    Get a pandas dataframe using a yahoo symbol from start date until yesterday as a business day.\n",
    "    args:\n",
    "        symbol - str\n",
    "        start - str in YYYY-MM-DD format\n",
    "        \n",
    "    return:\n",
    "        pd.DataFrame\n",
    "    \"\"\"\n",
    "    today = datetime.today()\n",
    "    # dd/mm/YY\n",
    "    #get last business day\n",
    "    offset = max(1, (today.weekday() + 6) % 7 - 3)\n",
    "    timed = timedelta(offset)\n",
    "    today_business = today - timed\n",
    "    print(\"d1 =\", today_business)\n",
    "    today = today_business.strftime(\"%Y-%m-%d\")\n",
    "    symbols_list = [symbol]\n",
    "    start = '2000-01-01' \n",
    "    end = today\n",
    "    print('{symbol} is Downloading'.format(symbol=symbol))\n",
    "    r = yf.download(symbols_list, start,end)\n",
    "    df_pivot = r\n",
    "    \n",
    "    return df_pivot"
   ]
  },
  {
   "cell_type": "code",
   "execution_count": 3,
   "id": "45a5e30c",
   "metadata": {
    "ExecuteTime": {
     "end_time": "2022-03-20T08:15:07.520840Z",
     "start_time": "2022-03-20T08:15:06.935365Z"
    },
    "scrolled": true
   },
   "outputs": [
    {
     "name": "stdout",
     "output_type": "stream",
     "text": [
      "d1 = 2022-03-18 16:15:06.936167\n",
      "SPY is Downloading\n",
      "[*********************100%***********************]  1 of 1 completed\n",
      "d1 = 2022-03-18 16:15:07.284425\n",
      "^TNX is Downloading\n",
      "[*********************100%***********************]  1 of 1 completed\n"
     ]
    }
   ],
   "source": [
    "SPY = getYahooData('SPY')\n",
    "TNX = getYahooData('^TNX')"
   ]
  },
  {
   "attachments": {
    "image.png": {
     "image/png": "[encoded data removed]"
    }
   },
   "cell_type": "markdown",
   "id": "df53454b",
   "metadata": {},
   "source": [
    "In the original example code, the author says they used log returns. However in the actual codebase it was percentage returns.\n",
    "![image.png](attachment:image.png)\n",
    "\n",
    "I amend that by actually implementing log returns. Log returns have a lot of good characteristics so I prefer them anyway, however we will begin to deviate from the original source results.\n",
    "\n",
    "We also drop the first NAN by creating a returns series"
   ]
  },
  {
   "cell_type": "code",
   "execution_count": 4,
   "id": "1375445b",
   "metadata": {
    "ExecuteTime": {
     "end_time": "2022-03-20T08:15:08.195361Z",
     "start_time": "2022-03-20T08:15:08.190826Z"
    }
   },
   "outputs": [],
   "source": [
    "spy_log_rets = np.log(SPY['Adj Close']/SPY['Adj Close'].shift(1)).dropna()\n",
    "tnx_log_rets = np.log(TNX['Adj Close']/TNX['Adj Close'].shift(1)).dropna() "
   ]
  },
  {
   "cell_type": "markdown",
   "id": "c5691227",
   "metadata": {},
   "source": [
    "Do a quick sanity check on the log returns series"
   ]
  },
  {
   "cell_type": "code",
   "execution_count": null,
   "id": "b66386d7",
   "metadata": {
    "ExecuteTime": {
     "end_time": "2022-03-20T08:03:29.109279Z",
     "start_time": "2022-03-20T08:03:28.542840Z"
    }
   },
   "outputs": [],
   "source": [
    "spy_log_rets.plot(kind=\"hist\", bins=50)"
   ]
  },
  {
   "cell_type": "code",
   "execution_count": null,
   "id": "b9941b98",
   "metadata": {
    "ExecuteTime": {
     "end_time": "2022-03-20T08:03:29.725528Z",
     "start_time": "2022-03-20T08:03:29.630504Z"
    }
   },
   "outputs": [],
   "source": [
    "tnx_log_rets.plot(kind=\"hist\", bins=50)"
   ]
  },
  {
   "cell_type": "markdown",
   "id": "32ea4410",
   "metadata": {},
   "source": [
    "Fit the GMM using 3 states and only SP500 data as in Senario 1 of the example"
   ]
  },
  {
   "cell_type": "code",
   "execution_count": null,
   "id": "7c9b4ede",
   "metadata": {
    "ExecuteTime": {
     "end_time": "2022-03-20T08:03:30.633875Z",
     "start_time": "2022-03-20T08:03:30.597786Z"
    }
   },
   "outputs": [],
   "source": [
    "X = spy_log_rets.values\n",
    "GMM = GaussianMixture(n_components=3).fit(X.reshape(-1,1)) # Instantiate and fit the model"
   ]
  },
  {
   "cell_type": "code",
   "execution_count": null,
   "id": "9260b245",
   "metadata": {
    "ExecuteTime": {
     "end_time": "2022-03-20T08:03:31.173729Z",
     "start_time": "2022-03-20T08:03:31.170591Z"
    }
   },
   "outputs": [],
   "source": [
    "# check convergance\n",
    "GMM.converged_"
   ]
  },
  {
   "cell_type": "code",
   "execution_count": null,
   "id": "61790bdf",
   "metadata": {
    "ExecuteTime": {
     "end_time": "2022-03-20T08:03:31.619898Z",
     "start_time": "2022-03-20T08:03:31.617425Z"
    }
   },
   "outputs": [],
   "source": [
    "# create search space of -10% to +10% per day\n",
    "x = np.linspace(-0.1,0.1, 5000)"
   ]
  },
  {
   "cell_type": "markdown",
   "id": "0b4295b3",
   "metadata": {},
   "source": [
    "We need to seperate out each of the 3 guassians and plot them to see their regimes"
   ]
  },
  {
   "cell_type": "code",
   "execution_count": null,
   "id": "881c76f3",
   "metadata": {
    "ExecuteTime": {
     "end_time": "2022-03-20T08:03:17.595564Z",
     "start_time": "2022-03-20T08:03:17.595558Z"
    }
   },
   "outputs": [],
   "source": [
    "GMM_means = GMM.means_.ravel()\n",
    "GMM_weights = GMM.weights_\n",
    "# Convert covairances to standard devation of each mixture\n",
    "cov = GMM.covariances_\n",
    "GMM_stdDev = [ np.sqrt( np.trace(cov[i])/3) for i in range(0,3) ]"
   ]
  },
  {
   "cell_type": "code",
   "execution_count": null,
   "id": "9c346efb",
   "metadata": {
    "ExecuteTime": {
     "end_time": "2022-03-20T08:03:17.596533Z",
     "start_time": "2022-03-20T08:03:17.596524Z"
    }
   },
   "outputs": [],
   "source": [
    "pdfs = [p * ss.norm.pdf(x, mu, std) for mu, std, p in zip(GMM.means_.ravel(), GMM_stdDev, GMM_weights)]"
   ]
  },
  {
   "cell_type": "code",
   "execution_count": null,
   "id": "68a17a3f",
   "metadata": {
    "ExecuteTime": {
     "end_time": "2022-03-20T08:03:17.597842Z",
     "start_time": "2022-03-20T08:03:17.597831Z"
    }
   },
   "outputs": [],
   "source": [
    "# Individual PDFs - comment out the ones you dont want to plot\n",
    "fig = make_subplots(specs=[[{\"secondary_y\": True}]])\n",
    "\n",
    "# fig.add_trace(go.Scatter(x=x, y=pdfs[0], name='Gaussian Mixture PDF 1'), secondary_y=True)\n",
    "# fig.add_trace(go.Scatter(x=x, y=pdfs[1], name='Gaussian Mixture PDF 2'), secondary_y=True)\n",
    "# fig.add_trace(go.Scatter(x=x, y=pdfs[2], name='Gaussian Mixture PDF 3'), secondary_y=True)\n",
    "fig.add_trace(go.Scatter(x=x, y=pdfs[0]+pdfs[1]+pdfs[2], name='Gaussian Mixture Total PDF'), secondary_y=True)\n",
    "\n",
    "# fig.add_trace(go.Histogram(x=spy_log_rets.values, name='SPY Log Returns'),\n",
    "#                         secondary_y=False)\n",
    "# fig.update_yaxes(rangemode='tozero')"
   ]
  },
  {
   "cell_type": "code",
   "execution_count": null,
   "id": "c9f9bf56",
   "metadata": {
    "ExecuteTime": {
     "end_time": "2022-03-20T08:03:17.599110Z",
     "start_time": "2022-03-20T08:03:17.599099Z"
    },
    "scrolled": false
   },
   "outputs": [],
   "source": [
    "# Total PDF overlay SP500\n",
    "fig = make_subplots(specs=[[{\"secondary_y\": True}]])\n",
    "\n",
    "fig.add_trace(go.Scatter(x=x, y=pdfs[0]+pdfs[1]+pdfs[2], name='Gaussian Mixture Total PDF'), secondary_y=True)\n",
    "\n",
    "fig.add_trace(go.Histogram(x=spy_log_rets.values, name='SPY Log Returns',histnorm='probability'),\n",
    "                        secondary_y=False)\n",
    "fig.update_yaxes(rangemode='tozero')\n",
    "\n",
    "# fig.show()"
   ]
  }
 ],
 "metadata": {
  "kernelspec": {
   "display_name": "Python 3 (ipykernel)",
   "language": "python",
   "name": "python3"
  },
  "language_info": {
   "codemirror_mode": {
    "name": "ipython",
    "version": 3
   },
   "file_extension": ".py",
   "mimetype": "text/x-python",
   "name": "python",
   "nbconvert_exporter": "python",
   "pygments_lexer": "ipython3",
   "version": "3.8.12"
  },
  "varInspector": {
   "cols": {
    "lenName": 16,
    "lenType": 16,
    "lenVar": 40
   },
   "kernels_config": {
    "python": {
     "delete_cmd_postfix": "",
     "delete_cmd_prefix": "del ",
     "library": "var_list.py",
     "varRefreshCmd": "print(var_dic_list())"
    },
    "r": {
     "delete_cmd_postfix": ") ",
     "delete_cmd_prefix": "rm(",
     "library": "var_list.r",
     "varRefreshCmd": "cat(var_dic_list()) "
    }
   },
   "types_to_exclude": [
    "module",
    "function",
    "builtin_function_or_method",
    "instance",
    "_Feature"
   ],
   "window_display": false
  }
 },
 "nbformat": 4,
 "nbformat_minor": 5
}
